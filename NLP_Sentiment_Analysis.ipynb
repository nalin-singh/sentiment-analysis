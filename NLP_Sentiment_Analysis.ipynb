{
  "nbformat": 4,
  "nbformat_minor": 0,
  "metadata": {
    "colab": {
      "provenance": [],
      "authorship_tag": "ABX9TyN1LTUbahzEqbaSWpAQzy8S",
      "include_colab_link": true
    },
    "kernelspec": {
      "name": "python3",
      "display_name": "Python 3"
    },
    "language_info": {
      "name": "python"
    }
  },
  "cells": [
    {
      "cell_type": "markdown",
      "metadata": {
        "id": "view-in-github",
        "colab_type": "text"
      },
      "source": [
        "<a href=\"https://colab.research.google.com/github/nalin-singh/sentiment-analysis/blob/main/NLP_Sentiment_Analysis.ipynb\" target=\"_parent\"><img src=\"https://colab.research.google.com/assets/colab-badge.svg\" alt=\"Open In Colab\"/></a>"
      ]
    },
    {
      "cell_type": "code",
      "execution_count": null,
      "metadata": {
        "colab": {
          "base_uri": "https://localhost:8080/"
        },
        "id": "BMhJ9zDFqV3w",
        "outputId": "dca478c4-9ea8-4024-8498-47efc2a4b97c"
      },
      "outputs": [
        {
          "output_type": "stream",
          "name": "stderr",
          "text": [
            "[nltk_data] Downloading package stopwords to /root/nltk_data...\n",
            "[nltk_data]   Package stopwords is already up-to-date!\n"
          ]
        },
        {
          "output_type": "execute_result",
          "data": {
            "text/plain": [
              "True"
            ]
          },
          "metadata": {},
          "execution_count": 29
        }
      ],
      "source": [
        "from nltk.tokenize import RegexpTokenizer\n",
        "from nltk.corpus import stopwords\n",
        "from nltk.stem.porter import PorterStemmer\n",
        "import nltk\n",
        "nltk.download('stopwords')"
      ]
    },
    {
      "cell_type": "code",
      "source": [
        "tokenizer = RegexpTokenizer(r'\\w+')\n",
        "englishStopwords = set(stopwords.words('english'))\n",
        "ps = PorterStemmer()"
      ],
      "metadata": {
        "id": "MPizR5tAqYfC"
      },
      "execution_count": null,
      "outputs": []
    },
    {
      "cell_type": "code",
      "source": [
        "def getStemmedReview(review):\n",
        "    review=review.lower()\n",
        "    review = review.replace(\" \",\" \")\n",
        "    \n",
        "    tokens = tokenizer.tokenize(review)\n",
        "    stopwords = [token for token in tokens if token not in englishStopwords]\n",
        "    newToken = [ps.stem(tokens) for tokens in stopwords]\n",
        "    \n",
        "    cleanedReview = \" \".join(newToken)\n",
        "    \n",
        "    return cleanedReview"
      ],
      "metadata": {
        "id": "9LMa_X5VqYkT"
      },
      "execution_count": null,
      "outputs": []
    },
    {
      "cell_type": "code",
      "source": [
        "sampleReview = \"\"\"I loved this movie since I was 7 and I saw it on the opening day. It was so touching and beautiful. I strongly recommend seeing for all. It's a movie to watch with your family by far.\n",
        "My MPAA rating: PG-13 for thematic elements, prolonged scenes of disastor, nudity/sexuality and some language.\"\"\"\n",
        "\n",
        "getStemmedReview(sampleReview)"
      ],
      "metadata": {
        "colab": {
          "base_uri": "https://localhost:8080/",
          "height": 37
        },
        "id": "KthTeUE_qYpi",
        "outputId": "e0b3b659-f0f6-422e-f7fd-8881a5a03d0d"
      },
      "execution_count": null,
      "outputs": [
        {
          "output_type": "execute_result",
          "data": {
            "text/plain": [
              "'love movi sinc 7 saw open day touch beauti strongli recommend see movi watch famili far mpaa rate pg 13 themat element prolong scene disastor nuditi sexual languag'"
            ],
            "application/vnd.google.colaboratory.intrinsic+json": {
              "type": "string"
            }
          },
          "metadata": {},
          "execution_count": 32
        }
      ]
    },
    {
      "cell_type": "code",
      "source": [
        "trainingData = [\"This was an awesome movie\",\n",
        "     \"Great good movie! I liked it a lot\",\n",
        "     \"Happy Ending! awesome acting by the hero\",\n",
        "     \"loved it! truly great\",\n",
        "     \"bad not upto the mark\",\n",
        "     \"could have better\",\n",
        "     \"did not like the movie\",\n",
        "     \"Surely a Disappointing movie\"]\n",
        "     \n",
        "targetSet = [1,1,1,1,0,0,0,0]"
      ],
      "metadata": {
        "id": "TLy_D27HqbFB"
      },
      "execution_count": null,
      "outputs": []
    },
    {
      "cell_type": "code",
      "source": [
        "cleanedTrainingData =[]\n",
        "for review in trainingData:\n",
        "    cleanedTrainingData.append(getStemmedReview(review))\n",
        "print(cleanedTrainingData)"
      ],
      "metadata": {
        "colab": {
          "base_uri": "https://localhost:8080/"
        },
        "id": "eaBxP6UGqbHT",
        "outputId": "6f0164a3-fa3d-4f3b-f8c2-7745ace7848f"
      },
      "execution_count": null,
      "outputs": [
        {
          "output_type": "stream",
          "name": "stdout",
          "text": [
            "['awesom movi', 'great good movi like lot', 'happi end awesom act hero', 'love truli great', 'bad upto mark', 'could better', 'like movi', 'sure disappoint movi']\n"
          ]
        }
      ]
    },
    {
      "cell_type": "code",
      "source": [
        "# Vectorisation\n",
        "from sklearn.feature_extraction.text import CountVectorizer\n",
        "countVector= CountVectorizer()\n",
        "vectorizedTrainingData = (countVector.fit_transform(cleanedTrainingData)).toarray()\n",
        "print(vectorizedTrainingData)\n",
        "print(countVector.get_feature_names())\n",
        "print(vectorizedTrainingData.shape)\n",
        "print(countVector.vocabulary_)"
      ],
      "metadata": {
        "colab": {
          "base_uri": "https://localhost:8080/"
        },
        "id": "VmVePAvSqYtr",
        "outputId": "a50e8360-7dd8-47b3-bd68-1f08ec076cab"
      },
      "execution_count": null,
      "outputs": [
        {
          "output_type": "stream",
          "name": "stdout",
          "text": [
            "[[0 1 0 0 0 0 0 0 0 0 0 0 0 0 0 1 0 0 0]\n",
            " [0 0 0 0 0 0 0 1 1 0 0 1 1 0 0 1 0 0 0]\n",
            " [1 1 0 0 0 0 1 0 0 1 1 0 0 0 0 0 0 0 0]\n",
            " [0 0 0 0 0 0 0 0 1 0 0 0 0 1 0 0 0 1 0]\n",
            " [0 0 1 0 0 0 0 0 0 0 0 0 0 0 1 0 0 0 1]\n",
            " [0 0 0 1 1 0 0 0 0 0 0 0 0 0 0 0 0 0 0]\n",
            " [0 0 0 0 0 0 0 0 0 0 0 1 0 0 0 1 0 0 0]\n",
            " [0 0 0 0 0 1 0 0 0 0 0 0 0 0 0 1 1 0 0]]\n",
            "['act', 'awesom', 'bad', 'better', 'could', 'disappoint', 'end', 'good', 'great', 'happi', 'hero', 'like', 'lot', 'love', 'mark', 'movi', 'sure', 'truli', 'upto']\n",
            "(8, 19)\n",
            "{'awesom': 1, 'movi': 15, 'great': 8, 'good': 7, 'like': 11, 'lot': 12, 'happi': 9, 'end': 6, 'act': 0, 'hero': 10, 'love': 13, 'truli': 17, 'bad': 2, 'upto': 18, 'mark': 14, 'could': 4, 'better': 3, 'sure': 16, 'disappoint': 5}\n"
          ]
        },
        {
          "output_type": "stream",
          "name": "stderr",
          "text": [
            "/usr/local/lib/python3.8/dist-packages/sklearn/utils/deprecation.py:87: FutureWarning: Function get_feature_names is deprecated; get_feature_names is deprecated in 1.0 and will be removed in 1.2. Please use get_feature_names_out instead.\n",
            "  warnings.warn(msg, category=FutureWarning)\n"
          ]
        }
      ]
    },
    {
      "cell_type": "code",
      "source": [
        "# Applying Multinomial Naive Bayes\n",
        "from sklearn.naive_bayes import MultinomialNB\n",
        "\n",
        "testingReview = [\"The movie I saw was bad\", \"I was happy and I loved the acting in the movie\"]\n",
        "\n",
        "mnb = MultinomialNB()\n",
        "#Training\n",
        "mnb.fit(vectorizedTrainingData,targetSet)\n",
        "#prediction\n",
        "cleanTestingReviews = [getStemmedReview(review) for review in testingReview]\n",
        "testVector = countVector.transform(cleanTestingReviews).toarray()\n",
        "\n",
        "print (mnb.predict(testVector))"
      ],
      "metadata": {
        "colab": {
          "base_uri": "https://localhost:8080/"
        },
        "id": "wigf4kvLqYwg",
        "outputId": "26cd4da3-e01f-457b-b776-01fc2188ccfc"
      },
      "execution_count": null,
      "outputs": [
        {
          "output_type": "stream",
          "name": "stdout",
          "text": [
            "[0 1]\n"
          ]
        }
      ]
    },
    {
      "cell_type": "code",
      "source": [
        "for prediction in mnb.predict(testVector):\n",
        "    if prediction==1:\n",
        "        print(\"Positive Review\\n\")\n",
        "    else:\n",
        "        print(\"Negative Review\\n\")"
      ],
      "metadata": {
        "colab": {
          "base_uri": "https://localhost:8080/"
        },
        "id": "GoVwPDnzqYzH",
        "outputId": "5b462a10-f0dc-4416-da88-0f3e889e9a7f"
      },
      "execution_count": null,
      "outputs": [
        {
          "output_type": "stream",
          "name": "stdout",
          "text": [
            "Negative Review\n",
            "\n",
            "Positive Review\n",
            "\n"
          ]
        }
      ]
    }
  ]
}